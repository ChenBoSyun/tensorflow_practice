{
 "cells": [
  {
   "cell_type": "code",
   "execution_count": 1,
   "metadata": {},
   "outputs": [
    {
     "name": "stderr",
     "output_type": "stream",
     "text": [
      "/usr/local/lib/python3.5/dist-packages/h5py/__init__.py:36: FutureWarning: Conversion of the second argument of issubdtype from `float` to `np.floating` is deprecated. In future, it will be treated as `np.float64 == np.dtype(float).type`.\n",
      "  from ._conv import register_converters as _register_converters\n"
     ]
    }
   ],
   "source": [
    "import numpy as np \n",
    "import tensorflow as tf \n",
    "import matplotlib.pyplot as plt\n",
    "import random\n",
    "from tensorflow.examples.tutorials.mnist import input_data"
   ]
  },
  {
   "cell_type": "code",
   "execution_count": 2,
   "metadata": {},
   "outputs": [],
   "source": [
    "%matplotlib inline"
   ]
  },
  {
   "cell_type": "markdown",
   "metadata": {},
   "source": [
    "data preprocess"
   ]
  },
  {
   "cell_type": "code",
   "execution_count": 3,
   "metadata": {},
   "outputs": [
    {
     "name": "stdout",
     "output_type": "stream",
     "text": [
      "Extracting MNIST_data/train-images-idx3-ubyte.gz\n",
      "Extracting MNIST_data/train-labels-idx1-ubyte.gz\n",
      "Extracting MNIST_data/t10k-images-idx3-ubyte.gz\n",
      "Extracting MNIST_data/t10k-labels-idx1-ubyte.gz\n"
     ]
    }
   ],
   "source": [
    "mnist = input_data.read_data_sets(\"MNIST_data/\" , one_hot = True)\n",
    "\n",
    "train_data = mnist.train\n",
    "valid_data = mnist.validation\n",
    "test_data = mnist.test"
   ]
  },
  {
   "cell_type": "code",
   "execution_count": 4,
   "metadata": {},
   "outputs": [],
   "source": [
    "train_image = np.reshape(train_data.images , [-1,28,28,1])\n",
    "valid_image = np.reshape(valid_data.images , [-1,28,28,1])\n",
    "test_image = np.reshape(test_data.images , [-1,28,28,1])\n",
    "train_image = train_image / 255\n",
    "valid_image = valid_image / 255\n",
    "test_image = test_image / 255\n",
    "train_label = train_data.labels\n",
    "valid_label = valid_data.labels\n",
    "test_label = test_data.labels"
   ]
  },
  {
   "cell_type": "markdown",
   "metadata": {},
   "source": [
    "build graph"
   ]
  },
  {
   "cell_type": "code",
   "execution_count": 5,
   "metadata": {},
   "outputs": [],
   "source": [
    "def add_dense(input_layer , size , activation=None):\n",
    "    Weights = tf.Variable(tf.truncated_normal(shape=size , stddev=0.1))\n",
    "    Biases = tf.Variable(tf.constant(0.1 , shape = [size[1]]))\n",
    "    if activation is None:\n",
    "        return tf.matmul(input_layer , Weights) + Biases\n",
    "    else:\n",
    "        return activation( tf.matmul(input_layer , Weights) + Biases )"
   ]
  },
  {
   "cell_type": "code",
   "execution_count": 6,
   "metadata": {},
   "outputs": [],
   "source": [
    "def add_conv2D(input_layer , shape):\n",
    "    Weights = tf.Variable(tf.truncated_normal(shape=shape , stddev=0.1))\n",
    "    Biases = tf.Variable(tf.constant(0.1 , shape = [shape[3]])) \n",
    "    conv2D = tf.nn.conv2d(input=input_layer , filter=Weights , strides=[1,1,1,1] , padding=\"SAME\")\n",
    "    return tf.nn.relu(conv2D + Biases)"
   ]
  },
  {
   "cell_type": "code",
   "execution_count": 7,
   "metadata": {
    "scrolled": true
   },
   "outputs": [],
   "source": [
    "def add_pool(input_layer , size):\n",
    "    return tf.nn.max_pool(input_layer , ksize=[1,size,size,1] , strides=[1,2,2,1] , padding=\"SAME\")"
   ]
  },
  {
   "cell_type": "code",
   "execution_count": 8,
   "metadata": {},
   "outputs": [],
   "source": [
    "def evaluate(y , y_):\n",
    "    correct_prediction = tf.equal(tf.argmax(y, 1),tf.argmax(y_, 1))\n",
    "    accuracy = tf.reduce_mean(tf.cast(correct_prediction, \"float\"))\n",
    "    return accuracy"
   ]
  },
  {
   "cell_type": "code",
   "execution_count": 9,
   "metadata": {},
   "outputs": [],
   "source": [
    "#input\n",
    "X = tf.placeholder(tf.float32 , shape=[None , 28 ,28 ,1])\n",
    "y = tf.placeholder(tf.int32 , shape=[None , 10])\n",
    "keep_prob = tf.placeholder(tf.float32 , shape= None )  \n",
    "#conv layer\n",
    "conv_1 = add_conv2D(X , shape=[5,5,1,32]) #patch 5x5 , in size = 1 , out size = 32 -------- output size = 28x28x1x32\n",
    "pool_1 = add_pool(conv_1 , size = 2) #output_size = 14x14x1x32\n",
    "conv_2 = add_conv2D(pool_1 , shape=[5,5,32,64]) #patch 5x5 , in size = 32 , out size = 64 -------- output size = 14x14x1x64\n",
    "pool_2 = add_pool(conv_2 , size = 2) #output_size = 7x7x1x64\n",
    "\n",
    "#flatten\n",
    "pool_2_flat = tf.reshape(pool_2 , [-1,7*7*64])\n",
    "\n",
    "#fully connected layer\n",
    "fc_1 = add_dense(pool_2_flat , [7*7*64 , 1024] , tf.nn.relu)\n",
    "fc_1_drop = tf.nn.dropout(fc_1, keep_prob)\n",
    "fc_2 = add_dense(fc_1_drop , [1024 , 10])\n",
    "predict = tf.nn.softmax(fc_2)\n",
    "accuracy = evaluate(y , predict)"
   ]
  },
  {
   "cell_type": "code",
   "execution_count": 10,
   "metadata": {},
   "outputs": [],
   "source": [
    "loss = tf.reduce_mean(\n",
    "        tf.nn.softmax_cross_entropy_with_logits(labels=y , logits=fc_2)\n",
    "        )\n",
    "\n",
    "optimizer = tf.train.AdamOptimizer(0.001).minimize(loss)"
   ]
  },
  {
   "cell_type": "markdown",
   "metadata": {},
   "source": [
    "training"
   ]
  },
  {
   "cell_type": "code",
   "execution_count": 11,
   "metadata": {
    "scrolled": true
   },
   "outputs": [
    {
     "name": "stdout",
     "output_type": "stream",
     "text": [
      "Epoch  1/100: \n",
      "train loss = 2.3068 , train accuracy = 0.1123 , valid loss = 2.3072 , valid accuracy = 0.1126\n",
      "Epoch  2/100: \n",
      "train loss = 2.2957 , train accuracy = 0.1123 , valid loss = 2.2959 , valid accuracy = 0.1126\n",
      "Epoch  3/100: \n",
      "train loss = 0.6713 , train accuracy = 0.8082 , valid loss = 0.6501 , valid accuracy = 0.8128\n",
      "Epoch  4/100: \n",
      "train loss = 0.3022 , train accuracy = 0.9082 , valid loss = 0.2828 , valid accuracy = 0.9172\n",
      "Epoch  5/100: \n",
      "train loss = 0.2202 , train accuracy = 0.9346 , valid loss = 0.2042 , valid accuracy = 0.9394\n",
      "Epoch  6/100: \n",
      "train loss = 0.1728 , train accuracy = 0.9480 , valid loss = 0.1620 , valid accuracy = 0.9512\n",
      "Epoch  7/100: \n",
      "train loss = 0.1501 , train accuracy = 0.9540 , valid loss = 0.1417 , valid accuracy = 0.9576\n",
      "Epoch  8/100: \n",
      "train loss = 0.1287 , train accuracy = 0.9615 , valid loss = 0.1213 , valid accuracy = 0.9644\n",
      "Epoch  9/100: \n",
      "train loss = 0.1195 , train accuracy = 0.9631 , valid loss = 0.1136 , valid accuracy = 0.9654\n",
      "Epoch 10/100: \n",
      "train loss = 0.0991 , train accuracy = 0.9695 , valid loss = 0.0961 , valid accuracy = 0.9720\n",
      "Epoch 11/100: \n",
      "train loss = 0.0892 , train accuracy = 0.9730 , valid loss = 0.0912 , valid accuracy = 0.9734\n",
      "Epoch 12/100: \n",
      "train loss = 0.0847 , train accuracy = 0.9735 , valid loss = 0.0860 , valid accuracy = 0.9746\n",
      "Epoch 13/100: \n",
      "train loss = 0.0756 , train accuracy = 0.9766 , valid loss = 0.0795 , valid accuracy = 0.9766\n",
      "Epoch 14/100: \n",
      "train loss = 0.0710 , train accuracy = 0.9781 , valid loss = 0.0731 , valid accuracy = 0.9778\n",
      "Epoch 15/100: \n",
      "train loss = 0.0661 , train accuracy = 0.9793 , valid loss = 0.0714 , valid accuracy = 0.9780\n",
      "Epoch 16/100: \n",
      "train loss = 0.0656 , train accuracy = 0.9807 , valid loss = 0.0716 , valid accuracy = 0.9792\n",
      "Epoch 17/100: \n",
      "train loss = 0.0611 , train accuracy = 0.9807 , valid loss = 0.0683 , valid accuracy = 0.9802\n",
      "Epoch 18/100: \n",
      "train loss = 0.0550 , train accuracy = 0.9832 , valid loss = 0.0653 , valid accuracy = 0.9796\n",
      "Epoch 19/100: \n",
      "train loss = 0.0510 , train accuracy = 0.9837 , valid loss = 0.0603 , valid accuracy = 0.9804\n",
      "Epoch 20/100: \n",
      "train loss = 0.0488 , train accuracy = 0.9849 , valid loss = 0.0604 , valid accuracy = 0.9834\n",
      "Epoch 21/100: \n",
      "train loss = 0.0490 , train accuracy = 0.9849 , valid loss = 0.0609 , valid accuracy = 0.9818\n",
      "Epoch 22/100: \n",
      "train loss = 0.0431 , train accuracy = 0.9872 , valid loss = 0.0544 , valid accuracy = 0.9830\n",
      "Epoch 23/100: \n",
      "train loss = 0.0405 , train accuracy = 0.9876 , valid loss = 0.0529 , valid accuracy = 0.9834\n",
      "Epoch 24/100: \n",
      "train loss = 0.0385 , train accuracy = 0.9885 , valid loss = 0.0516 , valid accuracy = 0.9848\n",
      "Epoch 25/100: \n",
      "train loss = 0.0395 , train accuracy = 0.9878 , valid loss = 0.0557 , valid accuracy = 0.9844\n",
      "Epoch 26/100: \n",
      "train loss = 0.0365 , train accuracy = 0.9880 , valid loss = 0.0554 , valid accuracy = 0.9836\n",
      "Epoch 27/100: \n",
      "train loss = 0.0325 , train accuracy = 0.9900 , valid loss = 0.0506 , valid accuracy = 0.9840\n",
      "Epoch 28/100: \n",
      "train loss = 0.0324 , train accuracy = 0.9899 , valid loss = 0.0528 , valid accuracy = 0.9842\n",
      "Epoch 29/100: \n",
      "train loss = 0.0290 , train accuracy = 0.9917 , valid loss = 0.0502 , valid accuracy = 0.9852\n",
      "Epoch 30/100: \n",
      "train loss = 0.0298 , train accuracy = 0.9910 , valid loss = 0.0502 , valid accuracy = 0.9858\n",
      "Epoch 31/100: \n",
      "train loss = 0.0263 , train accuracy = 0.9919 , valid loss = 0.0503 , valid accuracy = 0.9848\n",
      "Epoch 32/100: \n",
      "train loss = 0.0268 , train accuracy = 0.9919 , valid loss = 0.0468 , valid accuracy = 0.9864\n",
      "Epoch 33/100: \n",
      "train loss = 0.0237 , train accuracy = 0.9926 , valid loss = 0.0457 , valid accuracy = 0.9864\n",
      "Epoch 34/100: \n",
      "train loss = 0.0214 , train accuracy = 0.9940 , valid loss = 0.0468 , valid accuracy = 0.9862\n",
      "Epoch 35/100: \n",
      "train loss = 0.0249 , train accuracy = 0.9924 , valid loss = 0.0550 , valid accuracy = 0.9850\n",
      "Epoch 36/100: \n",
      "train loss = 0.0195 , train accuracy = 0.9941 , valid loss = 0.0472 , valid accuracy = 0.9862\n",
      "Epoch 37/100: \n",
      "train loss = 0.0198 , train accuracy = 0.9941 , valid loss = 0.0467 , valid accuracy = 0.9872\n",
      "Epoch 38/100: \n",
      "train loss = 0.0202 , train accuracy = 0.9941 , valid loss = 0.0448 , valid accuracy = 0.9866\n",
      "Epoch 39/100: \n",
      "train loss = 0.0187 , train accuracy = 0.9941 , valid loss = 0.0451 , valid accuracy = 0.9868\n",
      "Epoch 40/100: \n",
      "train loss = 0.0187 , train accuracy = 0.9940 , valid loss = 0.0491 , valid accuracy = 0.9852\n",
      "Epoch 41/100: \n",
      "train loss = 0.0161 , train accuracy = 0.9952 , valid loss = 0.0469 , valid accuracy = 0.9856\n",
      "Epoch 42/100: \n",
      "train loss = 0.0159 , train accuracy = 0.9952 , valid loss = 0.0502 , valid accuracy = 0.9856\n",
      "Epoch 43/100: \n",
      "train loss = 0.0156 , train accuracy = 0.9953 , valid loss = 0.0427 , valid accuracy = 0.9868\n",
      "Epoch 44/100: \n",
      "train loss = 0.0133 , train accuracy = 0.9962 , valid loss = 0.0454 , valid accuracy = 0.9864\n",
      "Epoch 45/100: \n",
      "train loss = 0.0132 , train accuracy = 0.9962 , valid loss = 0.0444 , valid accuracy = 0.9852\n",
      "Epoch 46/100: \n",
      "train loss = 0.0137 , train accuracy = 0.9958 , valid loss = 0.0489 , valid accuracy = 0.9868\n",
      "Epoch 47/100: \n",
      "train loss = 0.0121 , train accuracy = 0.9967 , valid loss = 0.0454 , valid accuracy = 0.9876\n",
      "Epoch 48/100: \n",
      "train loss = 0.0101 , train accuracy = 0.9971 , valid loss = 0.0418 , valid accuracy = 0.9870\n",
      "Epoch 49/100: \n",
      "train loss = 0.0102 , train accuracy = 0.9973 , valid loss = 0.0429 , valid accuracy = 0.9876\n",
      "Epoch 50/100: \n",
      "train loss = 0.0127 , train accuracy = 0.9965 , valid loss = 0.0444 , valid accuracy = 0.9874\n",
      "Epoch 51/100: \n",
      "train loss = 0.0103 , train accuracy = 0.9972 , valid loss = 0.0461 , valid accuracy = 0.9870\n",
      "Epoch 52/100: \n",
      "train loss = 0.0098 , train accuracy = 0.9970 , valid loss = 0.0449 , valid accuracy = 0.9864\n",
      "Epoch 53/100: \n",
      "train loss = 0.0094 , train accuracy = 0.9975 , valid loss = 0.0447 , valid accuracy = 0.9874\n",
      "Epoch 54/100: \n",
      "train loss = 0.0096 , train accuracy = 0.9976 , valid loss = 0.0476 , valid accuracy = 0.9864\n",
      "Epoch 55/100: \n",
      "train loss = 0.0106 , train accuracy = 0.9971 , valid loss = 0.0460 , valid accuracy = 0.9872\n",
      "Epoch 56/100: \n",
      "train loss = 0.0085 , train accuracy = 0.9981 , valid loss = 0.0413 , valid accuracy = 0.9872\n",
      "Epoch 57/100: \n",
      "train loss = 0.0072 , train accuracy = 0.9980 , valid loss = 0.0437 , valid accuracy = 0.9870\n",
      "Epoch 58/100: \n",
      "train loss = 0.0062 , train accuracy = 0.9985 , valid loss = 0.0434 , valid accuracy = 0.9872\n",
      "Epoch 59/100: \n",
      "train loss = 0.0077 , train accuracy = 0.9978 , valid loss = 0.0435 , valid accuracy = 0.9876\n",
      "Epoch 60/100: \n",
      "train loss = 0.0056 , train accuracy = 0.9985 , valid loss = 0.0397 , valid accuracy = 0.9890\n",
      "Epoch 61/100: \n",
      "train loss = 0.0059 , train accuracy = 0.9984 , valid loss = 0.0448 , valid accuracy = 0.9880\n",
      "Epoch 62/100: \n",
      "train loss = 0.0067 , train accuracy = 0.9984 , valid loss = 0.0462 , valid accuracy = 0.9858\n",
      "Epoch 63/100: \n",
      "train loss = 0.0058 , train accuracy = 0.9985 , valid loss = 0.0427 , valid accuracy = 0.9882\n",
      "Epoch 64/100: \n",
      "train loss = 0.0054 , train accuracy = 0.9986 , valid loss = 0.0420 , valid accuracy = 0.9890\n",
      "Epoch 65/100: \n",
      "train loss = 0.0056 , train accuracy = 0.9985 , valid loss = 0.0433 , valid accuracy = 0.9876\n",
      "Epoch 66/100: \n",
      "train loss = 0.0060 , train accuracy = 0.9983 , valid loss = 0.0457 , valid accuracy = 0.9874\n",
      "Epoch 67/100: \n",
      "train loss = 0.0058 , train accuracy = 0.9985 , valid loss = 0.0427 , valid accuracy = 0.9872\n",
      "Epoch 68/100: \n",
      "train loss = 0.0054 , train accuracy = 0.9987 , valid loss = 0.0459 , valid accuracy = 0.9878\n",
      "Epoch 69/100: \n",
      "train loss = 0.0054 , train accuracy = 0.9985 , valid loss = 0.0436 , valid accuracy = 0.9876\n",
      "Epoch 70/100: \n",
      "train loss = 0.0035 , train accuracy = 0.9992 , valid loss = 0.0455 , valid accuracy = 0.9886\n",
      "Epoch 71/100: \n",
      "train loss = 0.0036 , train accuracy = 0.9991 , valid loss = 0.0448 , valid accuracy = 0.9872\n",
      "Epoch 72/100: \n",
      "train loss = 0.0040 , train accuracy = 0.9989 , valid loss = 0.0453 , valid accuracy = 0.9878\n",
      "Epoch 73/100: \n",
      "train loss = 0.0042 , train accuracy = 0.9989 , valid loss = 0.0465 , valid accuracy = 0.9882\n",
      "Epoch 74/100: \n",
      "train loss = 0.0043 , train accuracy = 0.9986 , valid loss = 0.0502 , valid accuracy = 0.9878\n",
      "Epoch 75/100: \n",
      "train loss = 0.0040 , train accuracy = 0.9989 , valid loss = 0.0480 , valid accuracy = 0.9898\n",
      "Epoch 76/100: \n",
      "train loss = 0.0029 , train accuracy = 0.9994 , valid loss = 0.0466 , valid accuracy = 0.9876\n",
      "Epoch 77/100: \n"
     ]
    },
    {
     "name": "stdout",
     "output_type": "stream",
     "text": [
      "train loss = 0.0038 , train accuracy = 0.9988 , valid loss = 0.0489 , valid accuracy = 0.9880\n",
      "Epoch 78/100: \n",
      "train loss = 0.0032 , train accuracy = 0.9993 , valid loss = 0.0452 , valid accuracy = 0.9884\n",
      "Epoch 79/100: \n",
      "train loss = 0.0027 , train accuracy = 0.9993 , valid loss = 0.0486 , valid accuracy = 0.9882\n",
      "Epoch 80/100: \n",
      "train loss = 0.0030 , train accuracy = 0.9992 , valid loss = 0.0485 , valid accuracy = 0.9880\n",
      "Epoch 81/100: \n",
      "train loss = 0.0028 , train accuracy = 0.9994 , valid loss = 0.0466 , valid accuracy = 0.9880\n",
      "Epoch 82/100: \n",
      "train loss = 0.0027 , train accuracy = 0.9993 , valid loss = 0.0493 , valid accuracy = 0.9882\n",
      "Epoch 83/100: \n",
      "train loss = 0.0023 , train accuracy = 0.9997 , valid loss = 0.0458 , valid accuracy = 0.9882\n",
      "Epoch 84/100: \n",
      "train loss = 0.0023 , train accuracy = 0.9994 , valid loss = 0.0537 , valid accuracy = 0.9868\n",
      "Epoch 85/100: \n",
      "train loss = 0.0034 , train accuracy = 0.9988 , valid loss = 0.0541 , valid accuracy = 0.9870\n",
      "Epoch 86/100: \n",
      "train loss = 0.0021 , train accuracy = 0.9994 , valid loss = 0.0492 , valid accuracy = 0.9878\n",
      "Epoch 87/100: \n",
      "train loss = 0.0022 , train accuracy = 0.9995 , valid loss = 0.0495 , valid accuracy = 0.9892\n",
      "Epoch 88/100: \n",
      "train loss = 0.0020 , train accuracy = 0.9995 , valid loss = 0.0462 , valid accuracy = 0.9888\n",
      "Epoch 89/100: \n",
      "train loss = 0.0022 , train accuracy = 0.9995 , valid loss = 0.0437 , valid accuracy = 0.9894\n",
      "Epoch 90/100: \n",
      "train loss = 0.0032 , train accuracy = 0.9990 , valid loss = 0.0564 , valid accuracy = 0.9872\n",
      "Epoch 91/100: \n",
      "train loss = 0.0021 , train accuracy = 0.9995 , valid loss = 0.0431 , valid accuracy = 0.9890\n",
      "Epoch 92/100: \n",
      "train loss = 0.0026 , train accuracy = 0.9994 , valid loss = 0.0465 , valid accuracy = 0.9876\n",
      "Epoch 93/100: \n",
      "train loss = 0.0023 , train accuracy = 0.9994 , valid loss = 0.0549 , valid accuracy = 0.9884\n",
      "Epoch 94/100: \n",
      "train loss = 0.0019 , train accuracy = 0.9995 , valid loss = 0.0431 , valid accuracy = 0.9894\n",
      "Epoch 95/100: \n",
      "train loss = 0.0014 , train accuracy = 0.9997 , valid loss = 0.0485 , valid accuracy = 0.9882\n",
      "Epoch 96/100: \n",
      "train loss = 0.0017 , train accuracy = 0.9995 , valid loss = 0.0479 , valid accuracy = 0.9892\n",
      "Epoch 97/100: \n",
      "train loss = 0.0013 , train accuracy = 0.9998 , valid loss = 0.0456 , valid accuracy = 0.9886\n",
      "Epoch 98/100: \n",
      "train loss = 0.0016 , train accuracy = 0.9997 , valid loss = 0.0460 , valid accuracy = 0.9900\n",
      "Epoch 99/100: \n",
      "train loss = 0.0015 , train accuracy = 0.9996 , valid loss = 0.0453 , valid accuracy = 0.9910\n",
      "Epoch 100/100: \n",
      "train loss = 0.0012 , train accuracy = 0.9998 , valid loss = 0.0487 , valid accuracy = 0.9890\n"
     ]
    }
   ],
   "source": [
    "sess = tf.Session()\n",
    "sess.run(tf.global_variables_initializer())\n",
    "\n",
    "epochs = 100\n",
    "batch_size =256\n",
    "\n",
    "\n",
    "for i in range(epochs):\n",
    "    print(\"Epoch %2d/%2d: \"%(i+1,epochs))\n",
    "    \n",
    "    index = [i for i in range(train_image.shape[0])]\n",
    "    random.shuffle(index)\n",
    "    \n",
    "    while len(index)>0:\n",
    "        index_size = len(index)\n",
    "        batch_index=[index.pop() for _ in range(min(batch_size,index_size))]    \n",
    "        feed_dict = {\n",
    "            X: train_image[batch_index,:], \n",
    "            y: train_label[batch_index], \n",
    "            keep_prob : 0.5\n",
    "        }\n",
    "        sess.run(optimizer,feed_dict=feed_dict)\n",
    "    \n",
    "    train_loss = sess.run(loss,feed_dict={\n",
    "        X : train_image,\n",
    "        y : train_label,\n",
    "        keep_prob : 1\n",
    "    })\n",
    "    valid_loss = sess.run(loss,feed_dict={\n",
    "        X : valid_image,\n",
    "        y : valid_label,\n",
    "        keep_prob : 1\n",
    "    })\n",
    "    train_acc = sess.run(accuracy,feed_dict={\n",
    "        X : train_image,\n",
    "        y : train_label,\n",
    "        keep_prob : 1\n",
    "    })\n",
    "    valid_acc = sess.run(accuracy,feed_dict={\n",
    "        X : valid_image,\n",
    "        y : valid_label,\n",
    "        keep_prob : 1\n",
    "    })\n",
    "    print(\"train loss = %.4f , train accuracy = %.4f , valid loss = %.4f , valid accuracy = %.4f\"%(train_loss,train_acc,valid_loss,valid_acc))\n"
   ]
  },
  {
   "cell_type": "code",
   "execution_count": 12,
   "metadata": {},
   "outputs": [
    {
     "name": "stdout",
     "output_type": "stream",
     "text": [
      "acc = 0.9894     \n"
     ]
    }
   ],
   "source": [
    "acc_val = sess.run(accuracy,feed_dict={X : test_image , y : test_label , keep_prob : 1})\n",
    "print(\"acc = %.4f     \"%(acc_val))"
   ]
  }
 ],
 "metadata": {
  "kernelspec": {
   "display_name": "Python 3",
   "language": "python",
   "name": "python3"
  },
  "language_info": {
   "codemirror_mode": {
    "name": "ipython",
    "version": 3
   },
   "file_extension": ".py",
   "mimetype": "text/x-python",
   "name": "python",
   "nbconvert_exporter": "python",
   "pygments_lexer": "ipython3",
   "version": "3.5.2"
  }
 },
 "nbformat": 4,
 "nbformat_minor": 2
}
